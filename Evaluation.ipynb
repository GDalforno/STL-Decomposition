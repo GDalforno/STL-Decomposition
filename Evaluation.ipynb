{
 "cells": [
  {
   "cell_type": "code",
   "execution_count": 1,
   "metadata": {},
   "outputs": [],
   "source": [
    "import pickle\n",
    "import pandas as pd\n",
    "import numpy as np\n",
    "from modelling import (autoets, autoarima, linear_svr, stl_linear_svr,\n",
    "    bayesian_ridge, stl_bayesian_ridge)\n",
    "from load import load_dataset\n",
    "from data import path\n",
    "from sklearn.metrics import mean_absolute_error\n",
    "from statsmodels.tsa.seasonal import STL\n",
    "from statsmodels.stats.diagnostic import acorr_ljungbox"
   ]
  },
  {
   "cell_type": "code",
   "execution_count": 2,
   "metadata": {},
   "outputs": [],
   "source": [
    "def store_predictions(model:str)->None:\n",
    "    map_to_f = {\n",
    "        \"autoets\":autoets,\n",
    "        \"autoarima\":autoarima,\n",
    "        \"linear_svr\":linear_svr,\n",
    "        \"stl_linear_svr\":stl_linear_svr,\n",
    "        \"bayesian_ridge\":bayesian_ridge,\n",
    "        \"stl_bayesian_ridge\":stl_bayesian_ridge\n",
    "    }\n",
    "    \n",
    "    f = map_to_f[model]\n",
    "    N = 98\n",
    "    \n",
    "    predictions = []\n",
    "    for i in range(N):\n",
    "        predictions.append(f(load_dataset(i)))\n",
    "        print(i)\n",
    "        \n",
    "    with open(f\"./predictions/{model}.pkl\", \"wb\") as f:\n",
    "        pickle.dump(predictions, f)"
   ]
  },
  {
   "cell_type": "code",
   "execution_count": 4,
   "metadata": {},
   "outputs": [],
   "source": [
    "# store_predictions(\"autoets\")\n",
    "# store_predictions(\"autoarima\")\n",
    "# store_predictions(\"linear_svr\")\n",
    "# store_predictions(\"stl_linear_svr\")\n",
    "# store_predictions(\"bayesian_ridge\")\n",
    "# store_predictions(\"stl_bayesian_ridge\")"
   ]
  },
  {
   "cell_type": "code",
   "execution_count": 5,
   "metadata": {},
   "outputs": [],
   "source": [
    "with open(\"./predictions/autoets.pkl\", \"rb\") as f_autoets, \\\n",
    "        open(\"./predictions/autoarima.pkl\", \"rb\") as f_autoarima, \\\n",
    "        open(\"./predictions/linear_svr.pkl\", \"rb\") as f_linear_svr, \\\n",
    "        open(\"./predictions/stl_linear_svr.pkl\", \"rb\") as f_stl_linear_svr, \\\n",
    "        open(\"./predictions/bayesian_ridge.pkl\", \"rb\") as f_bayesian_ridge, \\\n",
    "        open(\"./predictions/stl_bayesian_ridge.pkl\", \"rb\") as f_stl_bayesian_ridge:\n",
    "    r_autoets = pickle.load(f_autoets)\n",
    "    r_autoarima = pickle.load(f_autoarima)\n",
    "    r_linear_svr = pickle.load(f_linear_svr)\n",
    "    r_stl_linear_svr = pickle.load(f_stl_linear_svr)\n",
    "    r_bayesian_ridge = pickle.load(f_bayesian_ridge)\n",
    "    r_stl_bayesian_ridge = pickle.load(f_stl_bayesian_ridge)"
   ]
  },
  {
   "cell_type": "code",
   "execution_count": 6,
   "metadata": {},
   "outputs": [],
   "source": [
    "def check_residuals_independence(ts:tuple)->bool:\n",
    "    x = ts[0]\n",
    "    max_p = ts[2]\n",
    "    \n",
    "    if max_p<=1:\n",
    "        return np.nan\n",
    "   \n",
    "    m = np.min(x)\n",
    "    if m<=1:\n",
    "        y = np.log1p(x + np.abs(m) + 1)\n",
    "    else:\n",
    "        y = np.log1p(x)\n",
    "\n",
    "    stl = STL(y, period=max_p).fit()\n",
    "    test = acorr_ljungbox(stl.resid, return_df=True, auto_lag=True, period=max_p)\n",
    "\n",
    "    # If the p value is greater than 0.05 then the residuals are independent\n",
    "    return np.max(test[\"lb_pvalue\"])>0.05"
   ]
  },
  {
   "cell_type": "code",
   "execution_count": 7,
   "metadata": {},
   "outputs": [],
   "source": [
    "df = {\n",
    "    \"category\":[],\n",
    "    \"autoets\":[], \n",
    "    \"autoarima\":[], \n",
    "    \"linear_svr\":[], \n",
    "    \"stl_linear_svr\":[],\n",
    "    \"bayesian_ridge\":[], \n",
    "    \"stl_bayesian_ridge\":[],\n",
    "    \"residuals_are_independent\":[]\n",
    "    \n",
    "}\n",
    "\n",
    "N = 98"
   ]
  },
  {
   "cell_type": "code",
   "execution_count": 8,
   "metadata": {},
   "outputs": [],
   "source": [
    "get_category = lambda x : x.split(\"/\")[3]"
   ]
  },
  {
   "cell_type": "code",
   "execution_count": 9,
   "metadata": {},
   "outputs": [],
   "source": [
    "for i in range(N):\n",
    "    ts = load_dataset(i)\n",
    "    df[\"category\"].append(get_category(path[i]))\n",
    "    \n",
    "    xx = ts[1]\n",
    "    df[\"autoets\"].append(mean_absolute_error(xx, r_autoets[i]))\n",
    "    df[\"autoarima\"].append(mean_absolute_error(xx, r_autoarima[i]))\n",
    "    df[\"linear_svr\"].append(mean_absolute_error(xx, r_linear_svr[i]))\n",
    "    df[\"stl_linear_svr\"].append(mean_absolute_error(xx, r_stl_linear_svr[i]))\n",
    "    df[\"bayesian_ridge\"].append(mean_absolute_error(xx, r_bayesian_ridge[i]))\n",
    "    df[\"stl_bayesian_ridge\"].append(mean_absolute_error(xx, r_stl_bayesian_ridge[i]))\n",
    "\n",
    "    df[\"residuals_are_independent\"].append(check_residuals_independence(ts))"
   ]
  },
  {
   "cell_type": "code",
   "execution_count": 10,
   "metadata": {},
   "outputs": [],
   "source": [
    "df = pd.DataFrame(df)"
   ]
  },
  {
   "cell_type": "code",
   "execution_count": 11,
   "metadata": {},
   "outputs": [],
   "source": [
    "df.to_csv(\"results.csv\")"
   ]
  }
 ],
 "metadata": {
  "kernelspec": {
   "display_name": "Python 3",
   "language": "python",
   "name": "python3"
  },
  "language_info": {
   "codemirror_mode": {
    "name": "ipython",
    "version": 3
   },
   "file_extension": ".py",
   "mimetype": "text/x-python",
   "name": "python",
   "nbconvert_exporter": "python",
   "pygments_lexer": "ipython3",
   "version": "3.8.5"
  }
 },
 "nbformat": 4,
 "nbformat_minor": 4
}
